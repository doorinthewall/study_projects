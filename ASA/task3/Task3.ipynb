{
 "cells": [
  {
   "cell_type": "markdown",
   "metadata": {},
   "source": [
    "## Здравствуйте, меня зовут *Алексей Медведев*, вот моё Задание №3 по курсу ПСАД-2019!"
   ]
  },
  {
   "cell_type": "code",
   "execution_count": null,
   "metadata": {},
   "outputs": [],
   "source": [
    "import pandas as pd\n",
    "import numpy as np\n",
    "import scipy as sp\n",
    "from collections import defaultdict\n",
    "from matplotlib import pyplot as plt\n",
    "\n",
    "import seaborn as sns\n",
    "sns.set()\n",
    "\n",
    "np.random.seed(228)\n",
    "\n",
    "%matplotlib inline\n",
    "%config InlineBackend.figure_format = 'svg' "
   ]
  },
  {
   "cell_type": "markdown",
   "metadata": {},
   "source": [
    "### Задача 1  "
   ]
  },
  {
   "cell_type": "markdown",
   "metadata": {},
   "source": [
    "Задана обучающая выборка $\\widetilde{S}$, включающая значения переменных $X$ и $Y$."
   ]
  },
  {
   "cell_type": "code",
   "execution_count": null,
   "metadata": {},
   "outputs": [],
   "source": [
    "from scipy.stats import linregress\n",
    "\n",
    "def draw_linear(x, y, x_name='X', y_name='Y'):\n",
    "    \"Scatter x-y points and draw a LR line.\"\n",
    "    slope, intercept, r, _, _ = linregress(x, y)\n",
    "    x_max, x_min = x.max(), x.min()\n",
    "    x_range = x_max - x_min\n",
    "    x_lims = np.array([x_min - 0.1 * x_range, x_max + 0.1 * x_range])\n",
    "    plt.xlabel(x_name)\n",
    "    plt.ylabel(y_name)\n",
    "    plt.plot(x, y, 'g+', label='Objects')\n",
    "    plt.plot(x_lims, intercept + slope * x_lims, 'r--', label=r\"LR line with $\\rho \\approx {:.3f}$\".format(r))\n",
    "    plt.legend()\n",
    "    plt.show()"
   ]
  },
  {
   "cell_type": "code",
   "execution_count": null,
   "metadata": {},
   "outputs": [],
   "source": [
    "S = np.load(\"data1.npy\")\n",
    "X, Y = S\n",
    "draw_linear(X, Y)"
   ]
  },
  {
   "cell_type": "markdown",
   "metadata": {},
   "source": [
    "Оцените значимость коэффициента корреляции с помощью..."
   ]
  },
  {
   "cell_type": "markdown",
   "metadata": {},
   "source": [
    "Критерия Стьюдента"
   ]
  },
  {
   "cell_type": "code",
   "execution_count": null,
   "metadata": {},
   "outputs": [],
   "source": [
    "def student_significance(X, Y):\n",
    "#    a = X - X.mean()\n",
    "#    b = Y-Y.mean()\n",
    "#    corr = a.mean()*b.mean()/(((a**2).mean()**0.5)*((b**2).mean()**0.5))\n",
    "    r = np.corrcoef(X,Y)[0,1]\n",
    "    t = r*(X.shape[0])**0.5/(1-r**2)**0.5\n",
    "    significance = (1-sp.stats.t.cdf(t, df = X.shape[0] - 2))\n",
    "    \n",
    "    return significance"
   ]
  },
  {
   "cell_type": "markdown",
   "metadata": {},
   "source": [
    "Перестановочного теста"
   ]
  },
  {
   "cell_type": "code",
   "execution_count": null,
   "metadata": {},
   "outputs": [],
   "source": [
    "def permutation_test_significance(X, Y, n_permutations=10000):\n",
    "    B = 10000\n",
    "    n = Y.shape[0]\n",
    "    r = np.corrcoef(X,Y)[0,1]\n",
    "    thresholds = np.array([np.corrcoef(X,Y[np.random.permutation(n)])[0,1] for i in range(B)])\n",
    "    return (thresholds > r).mean()"
   ]
  },
  {
   "cell_type": "markdown",
   "metadata": {},
   "source": [
    "Сравните результаты и сделайте выводы."
   ]
  },
  {
   "cell_type": "code",
   "execution_count": null,
   "metadata": {},
   "outputs": [],
   "source": [
    "print(\"Student significance: \", round(student_significance(X, Y), 5))\n",
    "print(\"PT significance: \", round(permutation_test_significance(X, Y), 5))"
   ]
  },
  {
   "cell_type": "markdown",
   "metadata": {},
   "source": [
    "**Выводы:** Результаты получились довольно схожими, не смотря на то что методы работают совершенно по-разному. Значит полученная оценка достаточно точна. Малость полученного p-значения значит, что гипотеза об отсутствии корреляции скорее всего будет отвергнута"
   ]
  },
  {
   "cell_type": "markdown",
   "metadata": {},
   "source": [
    "### Задача 2\n"
   ]
  },
  {
   "cell_type": "markdown",
   "metadata": {},
   "source": [
    "Сравните две группы $S_1$ и $S_2$ по переменным $X_1, \\dots, X_{10}$ с использованием теста..."
   ]
  },
  {
   "cell_type": "code",
   "execution_count": null,
   "metadata": {},
   "outputs": [],
   "source": [
    "S1 = np.load(\"data2_1.npy\")\n",
    "S2 = np.load(\"data2_2.npy\")"
   ]
  },
  {
   "cell_type": "markdown",
   "metadata": {},
   "source": [
    "Манна-Уиттни"
   ]
  },
  {
   "cell_type": "code",
   "execution_count": null,
   "metadata": {},
   "outputs": [],
   "source": [
    "def mw_test(X_from_S1, X_from_S2):\n",
    "    data = np.append(X_from_S1, X_from_S2)\n",
    "    n = data.shape[0]\n",
    "    m = X_from_S1.shape[0]\n",
    "    ranks = sp.stats.rankdata(data)\n",
    "    u = lambda r,n:r.sum() - n*(n+1)/2\n",
    "    t = min(u(ranks[:m],m), u(ranks[m:],n-m))\n",
    "    significance = (1-sp.stats.norm.cdf(np.abs((t - m*(n-m)/2)/(m*(n+1)*(n-m)/12)**0.5)))\n",
    "    return significance"
   ]
  },
  {
   "cell_type": "markdown",
   "metadata": {},
   "source": [
    "Колмогорова-Смирнова"
   ]
  },
  {
   "cell_type": "code",
   "execution_count": null,
   "metadata": {},
   "outputs": [],
   "source": [
    "def ks_test(X_from_S1, X_from_S2):\n",
    "    data = np.append(X_from_S1, X_from_S2)\n",
    "    f = lambda data, x: (x >= data).mean()\n",
    "    t = np.max([np.abs(f(X_from_S1,i) - f(X_from_S2,i)) for i in np.unique(data)])\n",
    "    n = X_from_S1.shape[0]\n",
    "    m = X_from_S2.shape[0]\n",
    "    significance = sp.special.kolmogorov(t*(n*m/(n+m))**0.5)\n",
    "    return significance"
   ]
  },
  {
   "cell_type": "code",
   "execution_count": null,
   "metadata": {},
   "outputs": [],
   "source": [
    "res = defaultdict(list)\n",
    "\n",
    "for i, (X_from_S1, X_from_S2) in enumerate(zip(S1, S2)):\n",
    "    res[\"X\"].append(i+1)\n",
    "    res[\"Mann–Whitney\"].append(mw_test(X_from_S1, X_from_S2))\n",
    "    res[\"Kolmogorov–Smirnov\"].append(ks_test(X_from_S1, X_from_S2))\n",
    "    #res[\"Mann–Whitney-True\"].append(sp.stats.mannwhitneyu(X_from_S1, X_from_S2).pvalue)\n",
    "    \n",
    "pd.DataFrame(res)"
   ]
  },
  {
   "cell_type": "markdown",
   "metadata": {},
   "source": [
    "Выясните, какие переменные являются значимыми на уровне $\\alpha$ с учётом коррекции..."
   ]
  },
  {
   "cell_type": "code",
   "execution_count": null,
   "metadata": {},
   "outputs": [],
   "source": [
    "alpha = 0.05"
   ]
  },
  {
   "cell_type": "markdown",
   "metadata": {},
   "source": [
    "Бонферрони"
   ]
  },
  {
   "cell_type": "code",
   "execution_count": null,
   "metadata": {},
   "outputs": [],
   "source": [
    "def bonferroni_corr(p_vals, alpha=alpha):\n",
    "    \"Must return bool (!) array: reject/accept after correction\"\n",
    "    p_vals_ = np.array(p_vals)\n",
    "    m = p_vals_.shape[0]\n",
    "    return  p_vals_*m <= alpha"
   ]
  },
  {
   "cell_type": "markdown",
   "metadata": {},
   "source": [
    "Бонферрони-Холма"
   ]
  },
  {
   "cell_type": "code",
   "execution_count": null,
   "metadata": {},
   "outputs": [],
   "source": [
    "def bh_corr(p_vals, alpha=alpha):\n",
    "    \"Must return bool (!) array: reject/accept after correction\"\n",
    "    p_vals_ = np.array(p_vals)\n",
    "    idx = np.argsort(p_vals_)\n",
    "    inv_idx = np.argsort(idx)\n",
    "    m = p_vals_.shape[0]\n",
    "    thresh = np.argmax(np.arange(m, 0, -1)*p_vals_[idx] > alpha)\n",
    "    res = np.ones(m, dtype=bool)\n",
    "    res[:thresh] = 0\n",
    "    return np.logical_not(res[inv_idx])"
   ]
  },
  {
   "cell_type": "markdown",
   "metadata": {},
   "source": [
    "Сравните результаты и сделайте выводы."
   ]
  },
  {
   "cell_type": "code",
   "execution_count": null,
   "metadata": {},
   "outputs": [],
   "source": [
    "def simple(p_vals, alpha=alpha):\n",
    "    p_vals_ = np.array(p_vals)\n",
    "    return p_vals_ <= alpha"
   ]
  },
  {
   "cell_type": "code",
   "execution_count": null,
   "metadata": {},
   "outputs": [],
   "source": [
    "res_corr = defaultdict(list)\n",
    "res_corr[\"X\"] = res[\"X\"]\n",
    "res_corr[\"MW rejected w/ Bonferroni\"] = bonferroni_corr(res[\"Mann–Whitney\"])\n",
    "res_corr[\"MW rejected w/ BH\"] = bh_corr(res[\"Mann–Whitney\"])\n",
    "res_corr[\"MW rejected w/ \"] = simple(res[\"Mann–Whitney\"])\n",
    "res_corr[\"KS rejected w/ Bonferroni\"] = bonferroni_corr(res[\"Kolmogorov–Smirnov\"])\n",
    "res_corr[\"KS rejected w/ BH\"] = bh_corr(res[\"Kolmogorov–Smirnov\"])\n",
    "res_corr[\"KS rejected w/\"] = simple(res[\"Kolmogorov–Smirnov\"])\n",
    "pd.DataFrame(res_corr)"
   ]
  },
  {
   "cell_type": "markdown",
   "metadata": {},
   "source": [
    "*Дополнительная информация:* на самом деле лишь переменные $X_1$, $X_2$ и $X_3$ имеют одинаковое распределение."
   ]
  },
  {
   "cell_type": "markdown",
   "metadata": {},
   "source": [
    "**Выводы:** В данных критерях $H_0$ - случайные величины пришли из одного распределения. Зная это можно увидеть, что критерий колмогорова-смирнова в целом дает более близкий к настоящему ответ на вопрос о распределении случайных величин $X_1 \\dots X_{10}$. Также можно заметить что использование поправки бонферони увеличивает шанс получения ложноположительных гипотез."
   ]
  },
  {
   "cell_type": "markdown",
   "metadata": {},
   "source": [
    "### Задача 3"
   ]
  },
  {
   "cell_type": "markdown",
   "metadata": {},
   "source": [
    "Найдите линейный временной тренд в предоставленном временном ряду $X_t$."
   ]
  },
  {
   "cell_type": "code",
   "execution_count": null,
   "metadata": {},
   "outputs": [],
   "source": [
    "def plot_ts(X_t, title):\n",
    "    plt.plot(X_t)\n",
    "    plt.title(title)\n",
    "    plt.xlabel(r\"$t$\")\n",
    "    plt.ylabel(r\"$X_t$\")\n",
    "    plt.show()"
   ]
  },
  {
   "cell_type": "code",
   "execution_count": null,
   "metadata": {},
   "outputs": [],
   "source": [
    "X_t = np.load(\"data3.npy\")\n",
    "plot_ts(X_t, \"Original time series\")"
   ]
  },
  {
   "cell_type": "code",
   "execution_count": null,
   "metadata": {},
   "outputs": [],
   "source": [
    "from sklearn.linear_model import LinearRegression"
   ]
  },
  {
   "cell_type": "code",
   "execution_count": null,
   "metadata": {},
   "outputs": [],
   "source": [
    "LinearRegression().get_params()"
   ]
  },
  {
   "cell_type": "code",
   "execution_count": null,
   "metadata": {},
   "outputs": [],
   "source": [
    "def linear_trend(X_t):\n",
    "    \"Must return floats a, b: LinTrend(X_t) = a * t + b\"\n",
    "#    gap = 10\n",
    "#    x = np.array([X_t[i:i+gap] for i in range(0,X_t.shape[0]-gap)])\n",
    "#    y = X_t[gap:]\n",
    "#    print(x.shape, y.shape)\n",
    "#    ar = LinearRegression().fit(x, y)\n",
    "#    a = ar.coef_\n",
    "#    b = ar.intercept_\n",
    "    x = np.arange(X_t.shape[0])\n",
    "    y = X_t\n",
    "    a,b,_,_,_ = linregress(x,y)\n",
    "    return a,b"
   ]
  },
  {
   "cell_type": "code",
   "execution_count": null,
   "metadata": {},
   "outputs": [],
   "source": [
    "print(\"Linear trend: X_t ~ a * t + b\")\n",
    "a, b = linear_trend(X_t)\n",
    "print(\"a = \", round(a, 3))\n",
    "print(\"b = \", round(b, 3))"
   ]
  },
  {
   "cell_type": "code",
   "execution_count": null,
   "metadata": {
    "scrolled": false
   },
   "outputs": [],
   "source": [
    "t = np.arange(len(X_t))\n",
    "plt.plot(t, b + a * t, 'r--', label=r\"Linear trend of $X_t$\")\n",
    "plt.legend()\n",
    "plot_ts(X_t, \"Now w/ linear trend\")"
   ]
  },
  {
   "cell_type": "markdown",
   "metadata": {},
   "source": [
    "После вычитания тренда проведите проверку на стохастическую нестационарность с помощью теста Дикки-Фуллера."
   ]
  },
  {
   "cell_type": "code",
   "execution_count": null,
   "metadata": {},
   "outputs": [],
   "source": [
    "X_t_detrended =  X_t - a * np.arange(X_t.shape[0]) - b\n",
    "plot_ts(X_t_detrended, \"After detrending\")"
   ]
  },
  {
   "cell_type": "code",
   "execution_count": null,
   "metadata": {},
   "outputs": [],
   "source": [
    "from statsmodels.tsa.stattools import adfuller\n",
    "from statsmodels.tsa.adfvalues import mackinnonp\n",
    "from statsmodels.regression.linear_model import OLS"
   ]
  },
  {
   "cell_type": "code",
   "execution_count": null,
   "metadata": {},
   "outputs": [],
   "source": [
    "def dfuller(X_t_detrended):\n",
    "    \"Must return p-value\"\n",
    "    gap = 1\n",
    "    x = np.array([X_t_detrended[i:i+gap] for i in range(0,X_t_detrended.shape[0]-gap)])\n",
    "    y = X_t_detrended[gap:]\n",
    "    res = OLS(y,x).fit()\n",
    "    print(res.tvalues[0])\n",
    "    #res = OLS(X_t_detrended[1:], X_t_detrended[:-1]).fit()\n",
    "    return mackinnonp(res.tvalues[0])"
   ]
  },
  {
   "cell_type": "code",
   "execution_count": null,
   "metadata": {},
   "outputs": [],
   "source": [
    "print(\"Detrended X_t is nonstationary with {0} probability.\".format(dfuller(X_t_detrended)))"
   ]
  },
  {
   "cell_type": "markdown",
   "metadata": {},
   "source": [
    "Не забудьте сделать выводы!"
   ]
  },
  {
   "cell_type": "markdown",
   "metadata": {},
   "source": [
    "**Выводы:** Если убрать тренд, то можно почти сразу заметить, что процесс не является стохастическим. Т.к присутствуют ярко выраженные 'вершины', то распределение проекции процесса начинает зависить от ее координаты.ритерий Дикки-Фуллера дает достаточно большую вероятность того, что процесс не является стохастическим."
   ]
  },
  {
   "cell_type": "code",
   "execution_count": null,
   "metadata": {},
   "outputs": [],
   "source": [
    "N = int(1e8)"
   ]
  },
  {
   "cell_type": "code",
   "execution_count": null,
   "metadata": {},
   "outputs": [],
   "source": [
    "noise = np.random.normal(0,1,size=(N))"
   ]
  },
  {
   "cell_type": "code",
   "execution_count": null,
   "metadata": {
    "scrolled": true
   },
   "outputs": [],
   "source": [
    "plt.plot(np.cumsum(noise))"
   ]
  },
  {
   "cell_type": "code",
   "execution_count": null,
   "metadata": {},
   "outputs": [],
   "source": [
    "q = 990\n",
    "mu = 0"
   ]
  },
  {
   "cell_type": "code",
   "execution_count": null,
   "metadata": {},
   "outputs": [],
   "source": [
    "coef = np.random.normal(size=(q))"
   ]
  },
  {
   "cell_type": "code",
   "execution_count": null,
   "metadata": {},
   "outputs": [],
   "source": [
    "process = np.array([coef.dot(noise[i:i+q]) for i in range(0,N-q)])"
   ]
  },
  {
   "cell_type": "code",
   "execution_count": null,
   "metadata": {},
   "outputs": [],
   "source": [
    "plt.plot(np.arange(N-q), process + mu)"
   ]
  },
  {
   "cell_type": "code",
   "execution_count": null,
   "metadata": {},
   "outputs": [],
   "source": []
  },
  {
   "cell_type": "code",
   "execution_count": null,
   "metadata": {},
   "outputs": [],
   "source": []
  }
 ],
 "metadata": {
  "kernelspec": {
   "display_name": "Python 3",
   "language": "python",
   "name": "python3"
  },
  "language_info": {
   "codemirror_mode": {
    "name": "ipython",
    "version": 3
   },
   "file_extension": ".py",
   "mimetype": "text/x-python",
   "name": "python",
   "nbconvert_exporter": "python",
   "pygments_lexer": "ipython3",
   "version": "3.5.2"
  }
 },
 "nbformat": 4,
 "nbformat_minor": 2
}

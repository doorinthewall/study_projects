{
 "cells": [
  {
   "cell_type": "code",
   "execution_count": null,
   "metadata": {},
   "outputs": [],
   "source": [
    "import numpy as np"
   ]
  },
  {
   "cell_type": "code",
   "execution_count": null,
   "metadata": {},
   "outputs": [],
   "source": [
    "from scipy.stats import norm"
   ]
  },
  {
   "cell_type": "code",
   "execution_count": null,
   "metadata": {},
   "outputs": [],
   "source": [
    "from time import time"
   ]
  },
  {
   "cell_type": "code",
   "execution_count": null,
   "metadata": {},
   "outputs": [],
   "source": [
    "from scipy.signal import fftconvolve"
   ]
  },
  {
   "cell_type": "code",
   "execution_count": null,
   "metadata": {},
   "outputs": [],
   "source": [
    "from scipy.signal import convolve"
   ]
  },
  {
   "cell_type": "code",
   "execution_count": null,
   "metadata": {},
   "outputs": [],
   "source": [
    "from scipy.signal import convolve2d"
   ]
  },
  {
   "cell_type": "code",
   "execution_count": 23,
   "metadata": {},
   "outputs": [
    {
     "data": {
      "text/plain": [
       "array([[ 10.,  20.,  30.,   0.],\n",
       "       [ 40., 150., 260., 300.],\n",
       "       [  0., 400., 500., 600.]])"
      ]
     },
     "execution_count": 23,
     "metadata": {},
     "output_type": "execute_result"
    }
   ],
   "source": [
    "convolve2d(a+1,b)"
   ]
  },
  {
   "cell_type": "code",
   "execution_count": 44,
   "metadata": {},
   "outputs": [],
   "source": [
    "a = np.arange(6).reshape(2,3)"
   ]
  },
  {
   "cell_type": "code",
   "execution_count": 45,
   "metadata": {
    "scrolled": true
   },
   "outputs": [],
   "source": [
    "a = np.append(a[:,:,np.newaxis],a[:,:,np.newaxis], axis = -1)"
   ]
  },
  {
   "cell_type": "code",
   "execution_count": 46,
   "metadata": {},
   "outputs": [
    {
     "data": {
      "text/plain": [
       "(2, 3, 2)"
      ]
     },
     "execution_count": 46,
     "metadata": {},
     "output_type": "execute_result"
    }
   ],
   "source": [
    "a.shape"
   ]
  },
  {
   "cell_type": "code",
   "execution_count": 47,
   "metadata": {},
   "outputs": [],
   "source": [
    "b = np.eye(2)"
   ]
  },
  {
   "cell_type": "code",
   "execution_count": 22,
   "metadata": {},
   "outputs": [
    {
     "data": {
      "text/plain": [
       "array([[ 10.,   0.],\n",
       "       [  0., 100.]])"
      ]
     },
     "execution_count": 22,
     "metadata": {},
     "output_type": "execute_result"
    }
   ],
   "source": [
    "b"
   ]
  },
  {
   "cell_type": "code",
   "execution_count": 17,
   "metadata": {},
   "outputs": [],
   "source": [
    "b[0]*=10\n",
    "b[1]*=100"
   ]
  },
  {
   "cell_type": "code",
   "execution_count": 52,
   "metadata": {},
   "outputs": [
    {
     "data": {
      "text/plain": [
       "array([[0., 1., 2., 0.],\n",
       "       [3., 4., 6., 2.],\n",
       "       [0., 3., 4., 5.]])"
      ]
     },
     "execution_count": 52,
     "metadata": {},
     "output_type": "execute_result"
    }
   ],
   "source": [
    "convolve(a,b[:,:,np.newaxis])[:,:,0]"
   ]
  },
  {
   "cell_type": "code",
   "execution_count": null,
   "metadata": {
    "scrolled": true
   },
   "outputs": [],
   "source": [
    "H = 10\n",
    "W = 11\n",
    "h = 2\n",
    "w = 3\n",
    "d_h = np.arange(H-h+1)[:,np.newaxis] + np.arange(h)[np.newaxis,:]\n",
    "d_w = np.arange(W-w+1)[:,np.newaxis] + np.arange(w)[np.newaxis,:]"
   ]
  },
  {
   "cell_type": "code",
   "execution_count": null,
   "metadata": {},
   "outputs": [],
   "source": [
    "X = np.arange(H*W).reshape(H,W)"
   ]
  },
  {
   "cell_type": "code",
   "execution_count": null,
   "metadata": {
    "scrolled": true
   },
   "outputs": [],
   "source": [
    "X_new = np.append(X[:,:,np.newaxis],X[:,:,np.newaxis], axis=-1)"
   ]
  },
  {
   "cell_type": "code",
   "execution_count": null,
   "metadata": {
    "scrolled": false
   },
   "outputs": [],
   "source": [
    "X_new[d_h[:,np.newaxis,:,np.newaxis],d_w[np.newaxis,:,np.newaxis,:]] = -100"
   ]
  },
  {
   "cell_type": "code",
   "execution_count": null,
   "metadata": {},
   "outputs": [],
   "source": [
    "submatrices[0,0,:,:,1]"
   ]
  },
  {
   "cell_type": "code",
   "execution_count": null,
   "metadata": {},
   "outputs": [],
   "source": [
    "F = np.ones((h,w))"
   ]
  },
  {
   "cell_type": "code",
   "execution_count": null,
   "metadata": {},
   "outputs": [],
   "source": [
    "np.sum()"
   ]
  },
  {
   "cell_type": "code",
   "execution_count": null,
   "metadata": {},
   "outputs": [],
   "source": [
    "s = 1"
   ]
  },
  {
   "cell_type": "code",
   "execution_count": null,
   "metadata": {
    "scrolled": true
   },
   "outputs": [],
   "source": [
    "density_F = norm.pdf(submatrices, F[np.newaxis, np.newaxis, :, :], s)"
   ]
  },
  {
   "cell_type": "code",
   "execution_count": null,
   "metadata": {},
   "outputs": [],
   "source": [
    "(3,2)+(3,2)"
   ]
  },
  {
   "cell_type": "code",
   "execution_count": null,
   "metadata": {},
   "outputs": [],
   "source": [
    "X_new[:,:,0].shape"
   ]
  },
  {
   "cell_type": "code",
   "execution_count": null,
   "metadata": {
    "scrolled": true
   },
   "outputs": [],
   "source": [
    "calculate_log_probability(X_new, F, X, s).shape"
   ]
  },
  {
   "cell_type": "code",
   "execution_count": null,
   "metadata": {},
   "outputs": [],
   "source": [
    "X_new.reshape(-1,2).argmax(0)"
   ]
  },
  {
   "cell_type": "code",
   "execution_count": null,
   "metadata": {},
   "outputs": [],
   "source": [
    "np.unravel_index(X_new.reshape(-1,2).argmax(0), X.shape)"
   ]
  },
  {
   "cell_type": "code",
   "execution_count": null,
   "metadata": {},
   "outputs": [],
   "source": [
    "t = (0,1,2)"
   ]
  },
  {
   "cell_type": "code",
   "execution_count": null,
   "metadata": {},
   "outputs": [],
   "source": [
    "t[0:2]"
   ]
  },
  {
   "cell_type": "code",
   "execution_count": null,
   "metadata": {},
   "outputs": [],
   "source": [
    "np.pad(X_new,((0,1),(0,1),(0,0)), 'constant')[:,:,1]"
   ]
  },
  {
   "cell_type": "code",
   "execution_count": null,
   "metadata": {},
   "outputs": [],
   "source": [
    "np.random.seed(42)\n",
    "H, W, K = 10, 12, 20\n",
    "h, w = 4, 5\n",
    "max_iter = 1\n",
    "X = np.random.rand(H, W, K)\n",
    "F = np.random.rand(h,w)\n",
    "B = np.random.rand(H, W)\n",
    "s = 1\n",
    "A = np.random.rand(H-h+1, W-w+1)\n",
    "l = calculate_log_probability(X, F, B, s)"
   ]
  },
  {
   "cell_type": "code",
   "execution_count": null,
   "metadata": {},
   "outputs": [],
   "source": [
    "print('H:',H,'W:',W,'K:',K,'h:',h,'w:',w,'H-h+1:',H-h+1,'W-w+1:',W-w+1)"
   ]
  },
  {
   "cell_type": "code",
   "execution_count": null,
   "metadata": {},
   "outputs": [],
   "source": [
    "l.shape"
   ]
  },
  {
   "cell_type": "code",
   "execution_count": null,
   "metadata": {
    "scrolled": true
   },
   "outputs": [],
   "source": [
    "q = run_e_step(X, F, B, s, A, use_MAP=False)"
   ]
  },
  {
   "cell_type": "code",
   "execution_count": null,
   "metadata": {},
   "outputs": [],
   "source": [
    "q.shape"
   ]
  },
  {
   "cell_type": "code",
   "execution_count": null,
   "metadata": {},
   "outputs": [],
   "source": [
    "F_new,B_new,s_new,A_new = run_m_step(X, q, h, w, use_MAP=False)"
   ]
  },
  {
   "cell_type": "code",
   "execution_count": null,
   "metadata": {},
   "outputs": [],
   "source": [
    "print(F_new.shape,B_new.shape,s_new,A_new.shape)"
   ]
  },
  {
   "cell_type": "code",
   "execution_count": null,
   "metadata": {
    "scrolled": true
   },
   "outputs": [],
   "source": [
    "q = run_e_step(X, F, B, s, A, use_MAP=True)"
   ]
  },
  {
   "cell_type": "code",
   "execution_count": null,
   "metadata": {},
   "outputs": [],
   "source": [
    "F_new,B_new,s_new,A_new = run_m_step(X, q, h, w, use_MAP=True)"
   ]
  },
  {
   "cell_type": "code",
   "execution_count": null,
   "metadata": {
    "scrolled": true
   },
   "outputs": [],
   "source": [
    "print(F_new.shape,B_new.shape,s_new,A_new.shape)"
   ]
  },
  {
   "cell_type": "code",
   "execution_count": null,
   "metadata": {
    "scrolled": true
   },
   "outputs": [],
   "source": [
    "print(F.shape,B.shape,s,A.shape)"
   ]
  },
  {
   "cell_type": "code",
   "execution_count": null,
   "metadata": {},
   "outputs": [],
   "source": [
    "float(s_new)"
   ]
  },
  {
   "cell_type": "code",
   "execution_count": null,
   "metadata": {},
   "outputs": [],
   "source": [
    "smth"
   ]
  },
  {
   "cell_type": "code",
   "execution_count": 234,
   "metadata": {},
   "outputs": [],
   "source": [
    "import numpy as np\n",
    "from scipy.special import logsumexp\n",
    "from scipy.stats import norm\n",
    "\n",
    "def calculate_log_probability(X, F, B, s):\n",
    "    \"\"\"\n",
    "    Calculates log p(X_k|d_k,F,B,s) for all images X_k in X and\n",
    "    all possible displacements d_k.\n",
    "\n",
    "    Parameters\n",
    "    ----------\n",
    "    X : array, shape (H, W, K)\n",
    "        K images of size H x W.\n",
    "    F : array, shape (h, w)\n",
    "        Estimate of villain's face.\n",
    "    B : array, shape (H, W)\n",
    "        Estimate of background.\n",
    "    s : float\n",
    "        Estimate of standard deviation of Gaussian noise.\n",
    "\n",
    "    Returns\n",
    "    -------\n",
    "    ll : array, shape(H-h+1, W-w+1, K)\n",
    "        ll[dh,dw,k] - log-likelihood of observing image X_k given\n",
    "        that the villain's face F is located at displacement (dh, dw)\n",
    "    \"\"\"\n",
    "    H, W, K = X.shape\n",
    "    h, w = F.shape\n",
    "    d_h = np.arange(H-h+1)[:,np.newaxis] + np.arange(h)[np.newaxis,:]\n",
    "    d_w = np.arange(W-w+1)[:,np.newaxis] + np.arange(w)[np.newaxis,:]\n",
    "    res = []\n",
    "    for k in range(K):\n",
    "        submatrices = X[d_h[:,np.newaxis,:,np.newaxis],d_w[np.newaxis,:,np.newaxis,:],k]\n",
    "        to_derive = B[d_h[:,np.newaxis,:,np.newaxis],d_w[np.newaxis,:,np.newaxis,:]]\n",
    "        density = -(((submatrices - F[np.newaxis, np.newaxis, :, :])**2)/(2*s**2)).sum(axis = (2,3))\\\n",
    "        + (((submatrices - to_derive)**2)/(2*s**2)).sum(axis = (2,3))\n",
    "        #density = ((submatrices*((2*(to_derive - F[np.newaxis, np.newaxis, :, :]))[:,:,:,:,np.newaxis]) \\\n",
    "        #+ ((F**2)[np.newaxis, np.newaxis, :, :]-to_derive**2)[:,:,:,:,np.newaxis])/(2*s**2)).sum(axis = (2,3))\n",
    "        to_add = (-np.log(s) - 0.5*np.log(2*np.pi) - \\\n",
    "        ((X[:,:,k] - B[:,:])**2)/(2*s**2))[np.newaxis, np.newaxis, :,:].sum(axis = (2,3))\n",
    "        res += [(density + to_add)[:,:,np.newaxis]]\n",
    "        \n",
    "    return np.stares\n",
    "\n",
    "    # submatrices_F - подматрицы X, соответствующие F для d_h, d_w (H-h+1, W-w+1, h, w)\n",
    "    #d_h = np.arange(H-h+1)[:,np.newaxis] + np.arange(h)[np.newaxis,:]\n",
    "    #d_w = np.arange(W-w+1)[:,np.newaxis] + np.arange(w)[np.newaxis,:]\n",
    "    #submatrices = X[d_h[:,np.newaxis,:,np.newaxis],d_w[np.newaxis,:,np.newaxis,:],:]\n",
    "    #density = np.log(norm.pdf(submatrices, F[np.newaxis, np.newaxis, :, :, np.newaxis], s)).sum(axis=(2,3))\n",
    "    #density = norm.pdf(X, 0, s)\n",
    "    #d_h = np.arange(H-h+1)[:,np.newaxis] + np.arange(h)[np.newaxis,:]\n",
    "    #d_w = np.arange(W-w+1)[:,np.newaxis] + np.arange(w)[np.newaxis,:]\n",
    "    #ans = np.log(density[d_h[:,np.newaxis,:,np.newaxis],d_w[np.newaxis,:,np.newaxis,:],:] +\\\n",
    "    #            F[np.newaxis, np.newaxis, :, :, np.newaxis]).sum(axis=(2,3))\n",
    "    # submatrices_B - подматрицы B, которые надо вычесть для каждого d_h, d_w\n",
    "    #to_derive = B[d_h[:,np.newaxis,:,np.newaxis],d_w[np.newaxis,:,np.newaxis,:]]\n",
    "    #to_derive = np.log(norm.pdf(submatrices, to_derive[:,:,:,:,np.newaxis], s)).sum(axis = (2,3))\n",
    "    #to_derive = np.log(density[d_h[:,np.newaxis,:,np.newaxis],d_w[np.newaxis,:,np.newaxis,:],:]\\\n",
    "    #                  + to_derive[:,:,:,:,np.newaxis]).sum(axis = (2,3))\n",
    "    #to_add = np.log(norm.pdf(X, B[:,:, np.newaxis], s))[np.newaxis, np.newaxis, :,:,:].sum(axis = (2,3))\n",
    "    #to_add = np.log(density + B[:,:,np.newaxis])[np.newaxis, np.newaxis, :,:,:].sum(axis = (2,3))\n",
    "    #density += to_add - to_derive\n",
    "    #ans += to_add - to_derive\n",
    "    #return density\n",
    "    #return ans\n",
    "\n",
    "\n",
    "def calculate_lower_bound(X, F, B, s, A, q, use_MAP=False):\n",
    "    \"\"\"\n",
    "    Calculates the lower bound L(q,F,B,s,A) for the marginal log likelihood.\n",
    "\n",
    "    Parameters\n",
    "    ----------\n",
    "    X : array, shape (H, W, K)\n",
    "        K images of size H x W.\n",
    "    F : array, shape (h, w)\n",
    "        Estimate of villain's face.\n",
    "    B : array, shape (H, W)\n",
    "        Estimate of background.\n",
    "    s : float\n",
    "        Estimate of standard deviation of Gaussian noise.\n",
    "    A : array, shape (H-h+1, W-w+1)\n",
    "        Estimate of prior on displacement of face in any image.\n",
    "    q : array\n",
    "        If use_MAP = False: shape (H-h+1, W-w+1, K)\n",
    "            q[dh,dw,k] - estimate of posterior of displacement (dh,dw)\n",
    "            of villain's face given image Xk\n",
    "        If use_MAP = True: shape (2, K)\n",
    "            q[0,k] - MAP estimates of dh for X_k\n",
    "            q[1,k] - MAP estimates of dw for X_k\n",
    "    use_MAP : bool, optional\n",
    "        If true then q is a MAP estimates of displacement (dh,dw) of\n",
    "        villain's face given image Xk.\n",
    "\n",
    "    Returns\n",
    "    -------\n",
    "    L : float\n",
    "        The lower bound L(q,F,B,s,A) for the marginal log likelihood.\n",
    "    \"\"\"\n",
    "    #L = calculate_log_probability(X, F, B, s) + np.log(A)[:,:,np.newaxis]\n",
    "    H, W, K = X.shape\n",
    "    L = calculate_log_probability(X, F, B, s)\n",
    "    aid = A[:,:,np.newaxis] + np.zeros(L.shape)\n",
    "    if use_MAP:\n",
    "        L = np.sum(L[q[0,:],q[1,:], np.arange(K)] + np.log(aid[q[0,:],q[1,:], np.arange(K)]))\n",
    "    else:\n",
    "        L[aid!=0] += np.log(aid[aid!=0])\n",
    "        L = (L * q).sum() + (q[q!=0]*np.log(q[q!=0])).sum()\n",
    "    return L\n",
    "\n",
    "\n",
    "def run_e_step(X, F, B, s, A, use_MAP=False):\n",
    "    \"\"\"\n",
    "    Given the current esitmate of the parameters, for each image Xk\n",
    "    esitmates the probability p(d_k|X_k,F,B,s,A).\n",
    "\n",
    "    Parameters\n",
    "    ----------\n",
    "    X : array, shape(H, W, K)\n",
    "        K images of size H x W.\n",
    "    F  : array_like, shape(h, w)\n",
    "        Estimate of villain's face.\n",
    "    B : array shape(H, W)\n",
    "        Estimate of background.\n",
    "    s : scalar, shape(1, 1)\n",
    "        Eestimate of standard deviation of Gaussian noise.\n",
    "    A : array, shape(H-h+1, W-w+1)\n",
    "        Estimate of prior on displacement of face in any image.\n",
    "    use_MAP : bool, optional,\n",
    "        If true then q is a MAP estimates of displacement (dh,dw) of\n",
    "        villain's face given image Xk.\n",
    "\n",
    "    Returns\n",
    "    -------\n",
    "    q : array\n",
    "        If use_MAP = False: shape (H-h+1, W-w+1, K)\n",
    "            q[dh,dw,k] - estimate of posterior of displacement (dh,dw)\n",
    "            of villain's face given image Xk\n",
    "        If use_MAP = True: shape (2, K)\n",
    "            q[0,k] - MAP estimates of dh for X_k\n",
    "            q[1,k] - MAP estimates of dw for X_k\n",
    "    \"\"\"\n",
    "    H,W,K = X.shape\n",
    "    q = calculate_log_probability(X, F, B, s)\n",
    "    if use_MAP:\n",
    "        aid = A[:,:,np.newaxis] + np.zeros(q.shape)\n",
    "        q[aid == 0] = -100\n",
    "        q[aid!=0] += np.log(aid[aid!=0])\n",
    "        q = np.vstack(np.unravel_index(q.reshape(-1,K).argmax(0), q.shape[0:2]))\n",
    "        return q\n",
    "    A[A==0] += 1e-5\n",
    "    q += np.log(A[:,:,np.newaxis])\n",
    "    to_derive = q.max(axis=(0,1))\n",
    "    q -= to_derive[np.newaxis, np.newaxis, :]\n",
    "    normalizer = logsumexp(q,axis=(1,0))[np.newaxis, np.newaxis, :]\n",
    "    q -= normalizer\n",
    "    q = np.exp(q)\n",
    "    \n",
    "    return q\n",
    "\n",
    "\n",
    "def run_m_step(X, q, h, w, use_MAP=False):\n",
    "    \"\"\"\n",
    "    Estimates F,B,s,A given esitmate of posteriors defined by q.\n",
    "\n",
    "    Parameters\n",
    "    ----------\n",
    "    X : array, shape(H, W, K)\n",
    "        K images of size H x W.\n",
    "    q  :\n",
    "        if use_MAP = False: array, shape (H-h+1, W-w+1, K)\n",
    "           q[dh,dw,k] - estimate of posterior of displacement (dh,dw)\n",
    "           of villain's face given image Xk\n",
    "        if use_MAP = True: array, shape (2, K)\n",
    "            q[0,k] - MAP estimates of dh for X_k\n",
    "            q[1,k] - MAP estimates of dw for X_k\n",
    "    h : int\n",
    "        Face mask height.\n",
    "    w : int\n",
    "        Face mask width.\n",
    "    use_MAP : bool, optional\n",
    "        If true then q is a MAP estimates of displacement (dh,dw) of\n",
    "        villain's face given image Xk.\n",
    "\n",
    "    Returns\n",
    "    -------\n",
    "    F : array, shape (h, w)\n",
    "        Estimate of villain's face.\n",
    "    B : array, shape (H, W)\n",
    "        Estimate of background.\n",
    "    s : float\n",
    "        Estimate of standard deviation of Gaussian noise.\n",
    "    A : array, shape (H-h+1, W-w+1)\n",
    "        Estimate of prior on displacement of face in any image.\n",
    "    \"\"\"\n",
    "    H, W, K = X.shape\n",
    "    q_new = q\n",
    "    if use_MAP:\n",
    "        q_new = np.zeros((H-h+1,W-w+1,K))\n",
    "        q_new[q[0,:],q[1,:],np.arange(K)] = 1\n",
    "        \n",
    "    A_new = q_new.sum(axis=-1)/K\n",
    "    \n",
    "    # submatrices_F - подматрицы X, соответствующие F для d_h, d_w (H-h+1, W-w+1, h, w)\n",
    "    d_h = np.arange(H-h+1)[:,np.newaxis] + np.arange(h)[np.newaxis,:]\n",
    "    d_w = np.arange(W-w+1)[:,np.newaxis] + np.arange(w)[np.newaxis,:]\n",
    "    submatrices = X[d_h[:,np.newaxis,:,np.newaxis],d_w[np.newaxis,:,np.newaxis,:],:]\n",
    "    #print((H-h+1, W-w+1, h,w,K), submatrices.shape)\n",
    "    F_new = (submatrices * q_new[:,:,np.newaxis, np.newaxis, :]).sum(axis = (0,1,4))/K\n",
    "        \n",
    "    \n",
    "    mask = np.ones((h,w,1))\n",
    "    to_derive = fftconvolve(q_new, mask)\n",
    "    \n",
    "    to_mul = (1-to_derive)\n",
    "    to_mul[to_mul < 0] = 0\n",
    "    # indices\n",
    "    #B_H = np.arange(H)[:,np.newaxis] - np.arange(h)[np.newaxis,:]\n",
    "    #mask = np.logical_or(B_H > H-h+1, B_H < 0)\n",
    "    #B_H[mask] = H-h+1\n",
    "    #B_W = np.arange(W)[:,np.newaxis] - np.arange(w)[np.newaxis,:]\n",
    "    #mask = np.logical_or(B_W > W-w+1, B_W < 0)\n",
    "    #B_W[mask] = W-w+1\n",
    "    #q_mod = np.pad(q_new,((0,1),(0,1),(0,0)), 'constant')\n",
    "    #to_derive = q_mod[B_H[:,np.newaxis,:,np.newaxis], B_W[np.newaxis,:,np.newaxis,:], :].sum(axis=(2,3))\n",
    "    B_new = (X*to_mul).sum(axis=-1)\n",
    "    #to_derive =(1-to_derive).sum(axis=-1)\n",
    "    #B_new[B_new!=0] = B_new[B_new!=0]/to_derive[B_new!=0]\n",
    "    #B_new = np.exp(np.log(B_new) - np.log(to_derive))\n",
    "    B_new[B_new!=0] = B_new[B_new!=0]/((to_mul.sum(axis=-1))[B_new!=0])\n",
    "    #B_new = np.exp(np.log(B_new) - np.log(to_derive))\n",
    "\n",
    "\n",
    "    #\n",
    "    to_mul = (1-to_derive)\n",
    "    to_mul[to_mul < 0] = 0\n",
    "    arg1 = (((X-B_new[:,:,np.newaxis])**2)*to_mul).sum()\n",
    "    arg2 = (((submatrices - F_new[np.newaxis,np.newaxis,:,:,np.newaxis])**2).sum(axis=(2,3))*q_new).sum()\n",
    "    s_new = (arg1 + arg2)/(K*H*W)\n",
    "    s_new = float(s_new**0.5)\n",
    "    \n",
    "    #\n",
    "    #arg1 = (X-B_new[:,:,np.newaxis])**2\n",
    "    #arg2 = (submatrices - F_new[np.newaxis,np.newaxis,:,:,np.newaxis])**2\n",
    "    #s_new = (arg1.sum() + ((arg2 - arg1[d_h[:,np.newaxis,:,np.newaxis],d_w[np.newaxis,:,np.newaxis,:],:])\\\n",
    "    #        *q_new[:,:,np.newaxis,np.newaxis,:]).sum())/(K*H*W)\n",
    "    #s_new = float(s_new**0.5)\n",
    "    \n",
    "    return F_new,B_new,s_new,A_new\n",
    "    \n",
    "\n",
    "\n",
    "def run_EM(X, h, w, F=None, B=None, s=None, A=None, tolerance=0.001,\n",
    "           max_iter=50, use_MAP=False):\n",
    "    \"\"\"\n",
    "    Runs EM loop until the likelihood of observing X given current\n",
    "    estimate of parameters is idempotent as defined by a fixed\n",
    "    tolerance.\n",
    "\n",
    "    Parameters\n",
    "    ----------\n",
    "    X : array, shape (H, W, K)\n",
    "        K images of size H x W.\n",
    "    h : int\n",
    "        Face mask height.\n",
    "    w : int\n",
    "        Face mask width.\n",
    "    F : array, shape (h, w), optional\n",
    "        Initial estimate of villain's face.\n",
    "    B : array, shape (H, W), optional\n",
    "        Initial estimate of background.\n",
    "    s : float, optional\n",
    "        Initial estimate of standard deviation of Gaussian noise.\n",
    "    A : array, shape (H-h+1, W-w+1), optional\n",
    "        Initial estimate of prior on displacement of face in any image.\n",
    "    tolerance : float, optional\n",
    "        Parameter for stopping criterion.\n",
    "    max_iter  : int, optional\n",
    "        Maximum number of iterations.\n",
    "    use_MAP : bool, optional\n",
    "        If true then after E-step we take only MAP estimates of displacement\n",
    "        (dh,dw) of villain's face given image Xk.\n",
    "\n",
    "    Returns\n",
    "    -------\n",
    "    F, B, s, A : trained parameters.\n",
    "    LL : array, shape(number_of_iters + 2,)\n",
    "        L(q,F,B,s,A) at initial guess, after each EM iteration and after\n",
    "        final estimate of posteriors;\n",
    "        number_of_iters is actual number of iterations that was done.\n",
    "    \"\"\"  \n",
    "    H, W, K = X.shape\n",
    "    \n",
    "    if F is None:\n",
    "        F = np.random.rand(h, w)\n",
    "    if B is None:\n",
    "        B = np.random.rand(H, W)\n",
    "    if A is None:\n",
    "        A = np.random.rand(H - h + 1, W - w + 1)\n",
    "        A /= A.sum()\n",
    "    if s is None:\n",
    "        s = 1\n",
    "    q = run_e_step(X, F, B, s, A, use_MAP)\n",
    "    LL = [calculate_lower_bound(X, F, B, s, A, q, use_MAP)]\n",
    "    \n",
    "    for _ in range(max_iter):\n",
    "        F, B, s, A = run_m_step(X, q, h, w, use_MAP)\n",
    "        LL += [calculate_lower_bound(X, F, B, s, A, q, use_MAP)]\n",
    "        q = run_e_step(X, F, B, s, A, use_MAP)\n",
    "        if LL[-1] - LL[-2] < tolerance:\n",
    "            break\n",
    "    F, B, s, A = run_m_step(X, q, h, w, use_MAP)\n",
    "    LL += [calculate_lower_bound(X, F, B, s, A, q, use_MAP)]\n",
    "    return F, B, s, A, LL\n",
    "\n",
    "\n",
    "def run_EM_with_restarts(X, h, w, tolerance=0.001, max_iter=50, use_MAP=False,\n",
    "                         n_restarts=10):\n",
    "    \"\"\"\n",
    "    Restarts EM several times from different random initializations\n",
    "    and stores the best estimate of the parameters as measured by\n",
    "    the L(q,F,B,s,A).\n",
    "\n",
    "    Parameters\n",
    "    ----------\n",
    "    X : array, shape (H, W, K)\n",
    "        K images of size H x W.\n",
    "    h : int\n",
    "        Face mask height.\n",
    "    w : int\n",
    "        Face mask width.\n",
    "    tolerance, max_iter, use_MAP : optional parameters for EM.\n",
    "    n_restarts : int\n",
    "        Number of EM runs.\n",
    "\n",
    "    Returns\n",
    "    -------\n",
    "    F : array,  shape (h, w)\n",
    "        The best estimate of villain's face.\n",
    "    B : array, shape (H, W)\n",
    "        The best estimate of background.\n",
    "    s : float\n",
    "        The best estimate of standard deviation of Gaussian noise.\n",
    "    A : array, shape (H-h+1, W-w+1)\n",
    "        The best estimate of prior on displacement of face in any image.\n",
    "    L : float\n",
    "        The best L(q,F,B,s,A).\n",
    "    \"\"\"\n",
    "    F_res, B_res, s_res, A_res, LL_res = 0,0,0,0,[-1]\n",
    "    for _ in range(n_restarts):\n",
    "        F, B, s, A, LL = run_EM(X, h, w, tolerance=tolerance, max_iter=max_iter, use_MAP=use_MAP)\n",
    "        if LL[-1] > LL_res[-1]:\n",
    "            F_res, B_res, s_res, A_res, LL_res = F, B, s, A, LL\n",
    "\n",
    "    return F_res, B_res, s_res, A_res, LL_res"
   ]
  },
  {
   "cell_type": "code",
   "execution_count": 223,
   "metadata": {},
   "outputs": [],
   "source": [
    "H, W, K = 7, 8, 2\n",
    "h, w = 2, 3\n",
    "X, F, B, A, q = generate_data(H, W, K, h, w, use_MAP=use_MAP)"
   ]
  },
  {
   "cell_type": "code",
   "execution_count": 224,
   "metadata": {
    "collapsed": true
   },
   "outputs": [
    {
     "data": {
      "text/plain": [
       "(array([[0., 0., 0.],\n",
       "        [0., 0., 0.]]),\n",
       " array([[0.37454012, 0.95071431, 0.73199394, 0.59865848, 0.15601864,\n",
       "         0.15599452, 0.05808361, 0.86617615],\n",
       "        [0.60111501, 0.70807258, 0.02058449, 0.96990985, 0.83244264,\n",
       "         0.21233911, 0.18182497, 0.18340451],\n",
       "        [0.30424224, 0.52475643, 0.43194502, 0.29122914, 0.61185289,\n",
       "         0.13949386, 0.29214465, 0.36636184],\n",
       "        [0.45606998, 0.78517596, 0.19967378, 0.51423444, 0.59241457,\n",
       "         0.04645041, 0.60754485, 0.17052412],\n",
       "        [0.06505159, 0.94888554, 0.96563203, 0.80839735, 0.30461377,\n",
       "         0.09767211, 0.68423303, 0.44015249],\n",
       "        [0.12203823, 0.49517691, 0.03438852, 0.9093204 , 0.25877998,\n",
       "         0.66252228, 0.31171108, 0.52006802],\n",
       "        [0.54671028, 0.18485446, 0.96958463, 0.77513282, 0.93949894,\n",
       "         0.89482735, 0.59789998, 0.92187424]]),\n",
       " 1.5177922182426355e-09,\n",
       " array([[0. , 0. , 0. , 0. , 0. , 0.5],\n",
       "        [0. , 0. , 0. , 0. , 0. , 0. ],\n",
       "        [0. , 0. , 0. , 0. , 0. , 0. ],\n",
       "        [0. , 0. , 0. , 0. , 0. , 0. ],\n",
       "        [0. , 0. , 0. , 0. , 0. , 0. ],\n",
       "        [0. , 0. , 0. , 0.5, 0. , 0. ]]),\n",
       " [-125.39655947334276,\n",
       "  26.173569325432368,\n",
       "  49.77150109729253,\n",
       "  93.71658360744138,\n",
       "  105.58021730978727,\n",
       "  663.2246016491147,\n",
       "  2686.61370563888,\n",
       "  2686.61370563888,\n",
       "  2686.61370563888])"
      ]
     },
     "execution_count": 224,
     "metadata": {},
     "output_type": "execute_result"
    }
   ],
   "source": [
    "run_EM_with_restarts(X, h,w)"
   ]
  },
  {
   "cell_type": "code",
   "execution_count": 235,
   "metadata": {},
   "outputs": [],
   "source": [
    "import sys\n",
    "import time\n",
    "import numpy as np\n",
    "from nose.tools import ok_, eq_\n",
    "from numpy.testing import assert_almost_equal\n",
    "\n",
    "\n",
    "def test_python3():\n",
    "    ok_(sys.version_info > (3, 3))\n",
    "\n",
    "\n",
    "def check_shape(**kwargs):\n",
    "    np.random.seed(42)\n",
    "    H, W, K = 10, 12, 20\n",
    "    h, w = 4, 5\n",
    "    max_iter = 1\n",
    "    X = np.random.rand(H, W, K)\n",
    "    F, B, s, A, LL = run_EM(X, h, w, max_iter=max_iter, **kwargs)\n",
    "    eq_(F.shape, (h, w))\n",
    "    eq_(B.shape, (H, W))\n",
    "    eq_(A.shape, (H-h+1, W-w+1))\n",
    "    eq_(np.array(LL).shape, (max_iter+2,))\n",
    "\n",
    "\n",
    "def generate_data(H, W, K, h, w, use_MAP=False, seed=42):\n",
    "    # explicit data with no noise\n",
    "    np.random.seed(seed)\n",
    "    X = np.zeros((H, W, K))\n",
    "    F = np.zeros((h, w))\n",
    "    B = np.random.rand(H, W)\n",
    "\n",
    "    coords = []\n",
    "    q = np.zeros((H-h+1, W-w+1, K))\n",
    "    for k in range(K):\n",
    "        x = np.random.randint(0, H-h+1)\n",
    "        y = np.random.randint(0, W-w+1)\n",
    "        coords.append((x, y))\n",
    "        X[:, :, k] = np.copy(B)\n",
    "        X[x:x+h, y:y+w, k] = F\n",
    "        q[x, y, k] = 1.\n",
    "\n",
    "    A = np.random.rand(H - h + 1, W - w + 1)\n",
    "    A /= A.sum()\n",
    "\n",
    "    if use_MAP:\n",
    "        q = np.array(coords).T\n",
    "\n",
    "    return X, F, B, A, q\n",
    "\n",
    "\n",
    "def check_e_step(use_MAP=False):\n",
    "    H, W, K = 4, 5, 2\n",
    "    h, w = 2, 3\n",
    "    s = 1e-1\n",
    "    X, F, B, A, q = \\\n",
    "        generate_data(H, W, K, h, w, use_MAP=use_MAP)\n",
    "\n",
    "    pred_q = run_e_step(X, F, B, s, A, use_MAP=use_MAP)\n",
    "    if use_MAP:\n",
    "        assert_almost_equal(q, pred_q)\n",
    "    else:\n",
    "        assert_almost_equal(q, pred_q, 5)\n",
    "\n",
    "\n",
    "def check_m_step(use_MAP=False):\n",
    "    H, W, K = 7, 8, 2\n",
    "    h, w = 2, 3\n",
    "    X, F, B, A, q = generate_data(H, W, K, h, w, use_MAP=use_MAP)\n",
    "    \n",
    "\n",
    "    pred_F, pred_B, pred_s, pred_A = \\\n",
    "        run_m_step(X, q, h, w, use_MAP=use_MAP)\n",
    "\n",
    "    #return F, B,pred_F, pred_B\n",
    "    assert_almost_equal(F, pred_F)\n",
    "    assert_almost_equal(B, pred_B)\n",
    "\n",
    "\n",
    "def check_e_step_time(use_MAP=False):\n",
    "    H, W, K = 50, 100, 50\n",
    "    h, w = 40, 50\n",
    "    s = 0.1\n",
    "    X, F, B, A, q = generate_data(H, W, K, h, w)\n",
    "    t_start = time.perf_counter()\n",
    "    run_e_step(X, F, B, s, A, use_MAP=use_MAP)\n",
    "    computation_time = time.perf_counter() - t_start\n",
    "    assert computation_time < 1\n",
    "\n",
    "\n",
    "def check_m_step_time(use_MAP=False):\n",
    "    H, W, K = 50, 100, 50\n",
    "    h, w = 40, 50\n",
    "    X, F, B, A, q = generate_data(H, W, K, h, w, use_MAP=use_MAP)\n",
    "\n",
    "    t_start = time.perf_counter()\n",
    "    run_m_step(X, q, h, w, use_MAP=use_MAP)\n",
    "    computation_time = time.perf_counter() - t_start\n",
    "    assert computation_time < 1\n",
    "\n",
    "\n",
    "def test_output_shape():\n",
    "    check_shape()\n",
    "    check_shape(use_MAP=True)\n",
    "\n",
    "\n",
    "def test_e_step():\n",
    "    check_e_step()\n",
    "    check_e_step(use_MAP=True)\n",
    "\n",
    "\n",
    "def test_m_stap():\n",
    "    check_m_step()\n",
    "    check_m_step(use_MAP=True)\n",
    "\n",
    "\n",
    "def test_e_step_time():\n",
    "    check_e_step_time()\n",
    "    check_e_step_time(use_MAP=True)\n",
    "\n",
    "\n",
    "def test_m_step_time():\n",
    "    check_m_step_time()\n",
    "    check_m_step_time(use_MAP=True)\n"
   ]
  },
  {
   "cell_type": "code",
   "execution_count": 236,
   "metadata": {},
   "outputs": [],
   "source": [
    "test_output_shape()"
   ]
  },
  {
   "cell_type": "code",
   "execution_count": 237,
   "metadata": {},
   "outputs": [],
   "source": [
    "check_e_step()"
   ]
  },
  {
   "cell_type": "code",
   "execution_count": 238,
   "metadata": {},
   "outputs": [],
   "source": [
    "check_m_step()"
   ]
  },
  {
   "cell_type": "code",
   "execution_count": null,
   "metadata": {},
   "outputs": [],
   "source": [
    "H, W, K = 4, 5, 2\n",
    "h, w = 2, 3\n",
    "s = 1e-1\n",
    "X, F, B, A, q = \\\n",
    "    generate_data(H, W, K, h, w)\n"
   ]
  },
  {
   "cell_type": "code",
   "execution_count": null,
   "metadata": {},
   "outputs": [],
   "source": [
    "d_h = np.arange(H-h+1)[:,np.newaxis] + np.arange(h)[np.newaxis,:]\n",
    "d_w = np.arange(W-w+1)[:,np.newaxis] + np.arange(w)[np.newaxis,:]\n",
    "submatrices = X[d_h[:,np.newaxis,:,np.newaxis],d_w[np.newaxis,:,np.newaxis,:],:]\n",
    "to_derive = B[d_h[:,np.newaxis,:,np.newaxis],d_w[np.newaxis,:,np.newaxis,:]]\n",
    "\n",
    "density = ((submatrices*((2*(to_derive - F[np.newaxis, np.newaxis, :, :]))[:,:,:,:,np.newaxis]) \\\n",
    "    + ((F**2)[np.newaxis, np.newaxis, :, :]-to_derive**2)[:,:,:,:,np.newaxis])/(2*s**2)).sum(axis = (2,3))\n",
    "to_add = (-np.log(s) - 0.5*np.log(2*np.pi) - \\\n",
    "((X - B[:,:, np.newaxis])**2)/(2*s**2))[np.newaxis, np.newaxis, :,:,:].sum(axis = (2,3))\n",
    "density += to_add"
   ]
  },
  {
   "cell_type": "code",
   "execution_count": null,
   "metadata": {},
   "outputs": [],
   "source": [
    "d_h = np.arange(H-h+1)[:,np.newaxis] + np.arange(h)[np.newaxis,:]\n",
    "d_w = np.arange(W-w+1)[:,np.newaxis] + np.arange(w)[np.newaxis,:]\n",
    "submatrices = X[d_h[:,np.newaxis,:,np.newaxis],d_w[np.newaxis,:,np.newaxis,:],:]\n",
    "density = np.log(norm.pdf(submatrices, F[np.newaxis, np.newaxis, :, :, np.newaxis], s)).sum(axis=(2,3))\n",
    "# submatrices_B - подматрицы B, которые надо вычесть для каждого d_h, d_w\n",
    "to_derive = B[d_h[:,np.newaxis,:,np.newaxis],d_w[np.newaxis,:,np.newaxis,:]]\n",
    "to_derive = np.log(norm.pdf(submatrices, to_derive[:,:,:,:,np.newaxis], s)).sum(axis = (2,3))\n",
    "to_add = np.log(norm.pdf(X, B[:,:, np.newaxis], s))[np.newaxis, np.newaxis, :,:,:].sum(axis = (2,3))\n",
    "density += to_add - to_derive"
   ]
  },
  {
   "cell_type": "code",
   "execution_count": null,
   "metadata": {},
   "outputs": [],
   "source": [
    "(-np.log(s) - 0.5*np.log(2*np.pi) - \\\n",
    "((X - B[:,:, np.newaxis])**2)/(2*s**2))[np.newaxis, np.newaxis, :,:,:].sum(axis = (2,3)) -\\\n",
    "np.log(norm.pdf(X, B[:,:, np.newaxis], s))[np.newaxis, np.newaxis, :,:,:].sum(axis = (2,3))"
   ]
  },
  {
   "cell_type": "code",
   "execution_count": null,
   "metadata": {},
   "outputs": [],
   "source": [
    "density = np.log(norm.pdf(submatrices, F[np.newaxis, np.newaxis, :, :, np.newaxis], s)).sum(axis=(2,3))\n",
    "to_derive = B[d_h[:,np.newaxis,:,np.newaxis],d_w[np.newaxis,:,np.newaxis,:]]\n",
    "to_derive = np.log(norm.pdf(submatrices, to_derive[:,:,:,:,np.newaxis], s)).sum(axis = (2,3))\n",
    "density -= to_derive"
   ]
  },
  {
   "cell_type": "code",
   "execution_count": null,
   "metadata": {},
   "outputs": [],
   "source": [
    "submatrices = X[d_h[:,np.newaxis,:,np.newaxis],d_w[np.newaxis,:,np.newaxis,:],:]\n",
    "to_derive = B[d_h[:,np.newaxis,:,np.newaxis],d_w[np.newaxis,:,np.newaxis,:]]"
   ]
  },
  {
   "cell_type": "code",
   "execution_count": null,
   "metadata": {},
   "outputs": [],
   "source": [
    "a = -(((submatrices - F[np.newaxis, np.newaxis, :, :,np.newaxis])**2)/(2*s**2)).sum(axis = (2,3))\\\n",
    "+ (((submatrices - to_derive[:,:,:,:,np.newaxis])**2)/(2*s**2)).sum(axis = (2,3))"
   ]
  },
  {
   "cell_type": "code",
   "execution_count": null,
   "metadata": {},
   "outputs": [],
   "source": [
    "a - density"
   ]
  },
  {
   "cell_type": "code",
   "execution_count": 215,
   "metadata": {
    "scrolled": true
   },
   "outputs": [],
   "source": [
    "test_m_stap()"
   ]
  },
  {
   "cell_type": "code",
   "execution_count": 216,
   "metadata": {
    "scrolled": true
   },
   "outputs": [],
   "source": [
    "test_e_step_time()"
   ]
  },
  {
   "cell_type": "code",
   "execution_count": 217,
   "metadata": {
    "scrolled": true
   },
   "outputs": [],
   "source": [
    "test_m_step_time()"
   ]
  },
  {
   "cell_type": "code",
   "execution_count": 195,
   "metadata": {},
   "outputs": [
    {
     "data": {
      "text/plain": [
       "nan"
      ]
     },
     "execution_count": 195,
     "metadata": {},
     "output_type": "execute_result"
    }
   ],
   "source": [
    "pred_s"
   ]
  },
  {
   "cell_type": "code",
   "execution_count": null,
   "metadata": {},
   "outputs": [],
   "source": [
    "np.random.seed(42)\n",
    "H, W, K = 10, 12, 20\n",
    "h, w = 4, 5\n",
    "max_iter = 1\n",
    "X = np.random.rand(H, W, K)"
   ]
  },
  {
   "cell_type": "code",
   "execution_count": null,
   "metadata": {},
   "outputs": [],
   "source": [
    "\n",
    "use_MAP = True\n",
    "\n",
    "F = np.random.rand(h, w)\n",
    "\n",
    "B = np.random.rand(H, W)\n",
    "\n",
    "A = np.random.rand(H - h + 1, W - w + 1)\n",
    "A /= A.sum()\n",
    "\n",
    "s = 1\n"
   ]
  },
  {
   "cell_type": "code",
   "execution_count": null,
   "metadata": {},
   "outputs": [],
   "source": [
    "q = run_e_step(X, F, B, s, A, use_MAP)"
   ]
  },
  {
   "cell_type": "code",
   "execution_count": null,
   "metadata": {},
   "outputs": [],
   "source": [
    "F, B, s, A = run_m_step(X, q, h, w, use_MAP)"
   ]
  },
  {
   "cell_type": "code",
   "execution_count": null,
   "metadata": {},
   "outputs": [],
   "source": [
    "LL += [calculate_lower_bound(X, F, B, s, A, q, use_MAP)]"
   ]
  },
  {
   "cell_type": "code",
   "execution_count": 145,
   "metadata": {
    "scrolled": true
   },
   "outputs": [],
   "source": [
    "H, W, K = 50, 100, 50\n",
    "h, w = 40, 50\n",
    "X, F, B, A, q = generate_data(H, W, K, h, w)"
   ]
  },
  {
   "cell_type": "code",
   "execution_count": 163,
   "metadata": {},
   "outputs": [],
   "source": [
    "use_MAP = False"
   ]
  },
  {
   "cell_type": "code",
   "execution_count": 196,
   "metadata": {},
   "outputs": [],
   "source": [
    "H, W, K = 7, 8, 2\n",
    "h, w = 2, 3\n",
    "X, F, B, A, q = generate_data(H, W, K, h, w, use_MAP=use_MAP)"
   ]
  },
  {
   "cell_type": "code",
   "execution_count": 209,
   "metadata": {},
   "outputs": [
    {
     "name": "stdout",
     "output_type": "stream",
     "text": [
      "2.5801364038888477e-16\n",
      "0.0\n",
      "2.3036932177579e-18\n"
     ]
    }
   ],
   "source": [
    "start = time.time()\n",
    "H, W, K = X.shape\n",
    "q_new = q\n",
    "if use_MAP:\n",
    "    q_new = np.zeros((H-h+1,W-w+1,K))\n",
    "    q_new[q[0,:],q[1,:],np.arange(K)] = 1\n",
    "\n",
    "A_new = q_new.sum(axis=-1)/K\n",
    "\n",
    "# submatrices_F - подматрицы X, соответствующие F для d_h, d_w (H-h+1, W-w+1, h, w)\n",
    "d_h = np.arange(H-h+1)[:,np.newaxis] + np.arange(h)[np.newaxis,:]\n",
    "d_w = np.arange(W-w+1)[:,np.newaxis] + np.arange(w)[np.newaxis,:]\n",
    "submatrices = X[d_h[:,np.newaxis,:,np.newaxis],d_w[np.newaxis,:,np.newaxis,:],:]\n",
    "#print((H-h+1, W-w+1, h,w,K), submatrices.shape)\n",
    "F_new = (submatrices * q_new[:,:,np.newaxis, np.newaxis, :]).sum(axis = (0,1,4))/K\n",
    "\n",
    "\n",
    "mask = np.ones((h,w,1))\n",
    "to_derive = fftconvolve(q_new, mask)\n",
    "\n",
    "\n",
    "# indices\n",
    "#B_H = np.arange(H)[:,np.newaxis] - np.arange(h)[np.newaxis,:]\n",
    "#mask = np.logical_or(B_H > H-h+1, B_H < 0)\n",
    "#B_H[mask] = H-h+1\n",
    "#B_W = np.arange(W)[:,np.newaxis] - np.arange(w)[np.newaxis,:]\n",
    "#mask = np.logical_or(B_W > W-w+1, B_W < 0)\n",
    "#B_W[mask] = W-w+1\n",
    "#q_mod = np.pad(q_new,((0,1),(0,1),(0,0)), 'constant')\n",
    "#to_derive = q_mod[B_H[:,np.newaxis,:,np.newaxis], B_W[np.newaxis,:,np.newaxis,:], :].sum(axis=(2,3))\n",
    "B_new = (X*(1-to_derive)).sum(axis=-1)\n",
    "B_new[B_new!=0] = B_new[B_new!=0]/(1-to_derive).sum(axis=-1)[B_new!=0]\n",
    "#B_new = np.exp(np.log(B_new) - np.log(to_derive))\n",
    "\n",
    "\n",
    "#\n",
    "to_mul = (1-to_derive)\n",
    "to_mul[to_mul < 0] = 0\n",
    "arg1 = (((X-B_new[:,:,np.newaxis])**2)*to_mul).sum()\n",
    "print(arg1)\n",
    "arg2 = (((submatrices - F_new[np.newaxis,np.newaxis,:,:,np.newaxis])**2).sum(axis=(2,3))*q_new).sum()\n",
    "print(arg2)\n",
    "s_new = (arg1 + arg2)/(K*H*W)\n",
    "print(s_new)\n",
    "s_new = float(s_new**0.5)"
   ]
  },
  {
   "cell_type": "code",
   "execution_count": 208,
   "metadata": {},
   "outputs": [
    {
     "data": {
      "text/plain": [
       "array([[[False, False],\n",
       "        [False, False],\n",
       "        [False, False],\n",
       "        [False, False],\n",
       "        [False, False],\n",
       "        [False, False],\n",
       "        [False, False],\n",
       "        [False,  True]],\n",
       "\n",
       "       [[False, False],\n",
       "        [False, False],\n",
       "        [False, False],\n",
       "        [False, False],\n",
       "        [False, False],\n",
       "        [False, False],\n",
       "        [False, False],\n",
       "        [False,  True]],\n",
       "\n",
       "       [[False, False],\n",
       "        [False, False],\n",
       "        [False, False],\n",
       "        [False, False],\n",
       "        [False, False],\n",
       "        [False, False],\n",
       "        [False, False],\n",
       "        [False, False]],\n",
       "\n",
       "       [[False, False],\n",
       "        [False, False],\n",
       "        [False, False],\n",
       "        [False, False],\n",
       "        [False, False],\n",
       "        [False, False],\n",
       "        [False, False],\n",
       "        [False, False]],\n",
       "\n",
       "       [[False, False],\n",
       "        [False, False],\n",
       "        [False, False],\n",
       "        [False, False],\n",
       "        [False, False],\n",
       "        [False, False],\n",
       "        [False, False],\n",
       "        [False, False]],\n",
       "\n",
       "       [[False, False],\n",
       "        [False, False],\n",
       "        [False, False],\n",
       "        [False, False],\n",
       "        [False, False],\n",
       "        [ True, False],\n",
       "        [False, False],\n",
       "        [False, False]],\n",
       "\n",
       "       [[False, False],\n",
       "        [False, False],\n",
       "        [False, False],\n",
       "        [False, False],\n",
       "        [False, False],\n",
       "        [ True, False],\n",
       "        [False, False],\n",
       "        [False, False]]])"
      ]
     },
     "execution_count": 208,
     "metadata": {},
     "output_type": "execute_result"
    }
   ],
   "source": [
    "1-to_derive < 0"
   ]
  },
  {
   "cell_type": "code",
   "execution_count": 207,
   "metadata": {},
   "outputs": [
    {
     "name": "stdout",
     "output_type": "stream",
     "text": [
      "-1.9130474079780398e-16\n"
     ]
    }
   ],
   "source": [
    "print((((X-B_new[:,:,np.newaxis])**2)*(1-to_derive)).sum())"
   ]
  },
  {
   "cell_type": "code",
   "execution_count": 176,
   "metadata": {},
   "outputs": [],
   "source": [
    "arg1 = ((X-B_new[:,:,np.newaxis])**2)*to_derive"
   ]
  },
  {
   "cell_type": "code",
   "execution_count": null,
   "metadata": {},
   "outputs": [],
   "source": []
  },
  {
   "cell_type": "code",
   "execution_count": 12,
   "metadata": {},
   "outputs": [],
   "source": [
    "a = np.ones(B.shape)"
   ]
  },
  {
   "cell_type": "code",
   "execution_count": null,
   "metadata": {},
   "outputs": [],
   "source": [
    "fftconvolve(a[:,:,np.newaxis, np.newaxis, ], q_new)"
   ]
  },
  {
   "cell_type": "code",
   "execution_count": null,
   "metadata": {},
   "outputs": [],
   "source": [
    "#H, W, K = X.shape\n",
    "q_new = q\n",
    "if use_MAP:\n",
    "    q_new = np.zeros((H-h+1,W-w+1,K))\n",
    "    q_new[q[0,:],q[1,:],np.arange(K)] = 1\n",
    "\n",
    "A_new = q_new.sum(axis=-1)/K\n",
    "\n",
    "# submatrices_F - подматрицы X, соответствующие F для d_h, d_w (H-h+1, W-w+1, h, w)\n",
    "d_h = np.arange(H-h+1)[:,np.newaxis] + np.arange(h)[np.newaxis,:]\n",
    "d_w = np.arange(W-w+1)[:,np.newaxis] + np.arange(w)[np.newaxis,:]\n",
    "submatrices = X[d_h[:,np.newaxis,:,np.newaxis],d_w[np.newaxis,:,np.newaxis,:],:]\n",
    "#print((H-h+1, W-w+1, h,w,K), submatrices.shape)\n",
    "F_new = (submatrices * q_new[:,:,np.newaxis, np.newaxis, :]).sum(axis = (0,1,4))/K\n",
    "\n",
    "# indices\n",
    "B_H = np.arange(H)[:,np.newaxis] - np.arange(h)[np.newaxis,:]\n",
    "mask = np.logical_or(B_H > H-h+1, B_H < 0)\n",
    "B_H[mask] = H-h+1\n",
    "B_W = np.arange(W)[:,np.newaxis] - np.arange(w)[np.newaxis,:]\n",
    "mask = np.logical_or(B_W > W-w+1, B_W < 0)\n",
    "B_W[mask] = W-w+1\n",
    "q_mod = np.pad(q_new,((0,1),(0,1),(0,0)), 'constant')\n",
    "to_derive = q_mod[B_H[:,np.newaxis,:,np.newaxis], B_W[np.newaxis,:,np.newaxis,:], :].sum(axis=(2,3))\n",
    "B_new = (X*(1-to_derive)).sum(axis=-1)\n",
    "to_derive =(1-to_derive).sum(axis=-1)\n",
    "B_new[B_new!=0] = B_new[B_new!=0]/to_derive[B_new!=0]\n",
    "#B_new = np.exp(np.log(B_new) - np.log(to_derive))\n",
    "\n",
    "#\n",
    "arg1 = (X-B_new[:,:,np.newaxis])**2\n",
    "arg2 = (submatrices - F_new[np.newaxis,np.newaxis,:,:,np.newaxis])**2\n",
    "s_new = (arg1.sum() + ((arg2 - arg1[d_h[:,np.newaxis,:,np.newaxis],d_w[np.newaxis,:,np.newaxis,:],:])\\\n",
    "        *q_new[:,:,np.newaxis,np.newaxis,:]).sum())/(K*H*W)\n",
    "s_new = float(s_new**0.5)\n",
    "\n",
    "return F_new,B_new,s_new,A_new"
   ]
  },
  {
   "cell_type": "code",
   "execution_count": null,
   "metadata": {
    "scrolled": true
   },
   "outputs": [],
   "source": [
    "H, W, K = 50, 100, 50\n",
    "h, w = 40, 50\n",
    "s = 0.1\n",
    "X, F, B, A, q = generate_data(H, W, K, h, w)\n"
   ]
  },
  {
   "cell_type": "code",
   "execution_count": null,
   "metadata": {
    "scrolled": true
   },
   "outputs": [],
   "source": [
    "submatrices.shape"
   ]
  },
  {
   "cell_type": "code",
   "execution_count": null,
   "metadata": {
    "scrolled": false
   },
   "outputs": [],
   "source": [
    "start = time.time()\n",
    "d_h = np.arange(H-h+1)[:,np.newaxis] + np.arange(h)[np.newaxis,:]\n",
    "d_w = np.arange(W-w+1)[:,np.newaxis] + np.arange(w)[np.newaxis,:]\n",
    "submatrices = X[d_h[:,np.newaxis,:,np.newaxis],d_w[np.newaxis,:,np.newaxis,:],:]\n",
    "to_derive = B[d_h[:,np.newaxis,:,np.newaxis],d_w[np.newaxis,:,np.newaxis,:]]\n",
    "density = -(((submatrices - F[np.newaxis, np.newaxis, :, :,np.newaxis])**2)/(2*s**2)).sum(axis = (2,3))\\\n",
    "+ (((submatrices - to_derive[:,:,:,:,np.newaxis])**2)/(2*s**2)).sum(axis = (2,3))\n",
    "#density = ((submatrices*((2*(to_derive - F[np.newaxis, np.newaxis, :, :]))[:,:,:,:,np.newaxis]) \\\n",
    "#            + ((F**2)[np.newaxis, np.newaxis, :, :]+to_derive**2)[:,:,:,:,np.newaxis])/(2*s)).sum(axis = (2,3))\n",
    "to_add = (-np.log(s) - 0.5*np.log(2*np.pi) - \\\n",
    "((X - B[:,:, np.newaxis])**2)/(2*s))[np.newaxis, np.newaxis, :,:,:].sum(axis = (2,3))\n",
    "density += to_add\n",
    "print(time.time() - start)"
   ]
  },
  {
   "cell_type": "code",
   "execution_count": null,
   "metadata": {},
   "outputs": [],
   "source": [
    "d_h = np.arange(H-h+1)[:,np.newaxis] + np.arange(h)[np.newaxis,:]\n",
    "d_w = np.arange(W-w+1)[:,np.newaxis] + np.arange(w)[np.newaxis,:]\n",
    "submatrices = X[d_h[:,np.newaxis,:,np.newaxis],d_w[np.newaxis,:,np.newaxis,:],:]\n",
    "to_derive = B[d_h[:,np.newaxis,:,np.newaxis],d_w[np.newaxis,:,np.newaxis,:]]\n",
    "\n",
    "density = (submatrices*(2*(B - F))[np.newaxis, np.newaxis, :, :, np.newaxis] \\\n",
    "            + (F**2+B**2)[np.newaxis, np.newaxis, :, :, np.newaxis])/(2*s)\n",
    "\n",
    "to_derive = ((submatrices - to_derive[:,:,:,:,np.newaxis])**2)/(2*s)\n",
    "to_add = (-np.log(s) - 0.5*np.log(2*np.pi) - \\\n",
    "((X - B[:,:, np.newaxis])**2)/(2*s))[np.newaxis, np.newaxis, :,:,:].sum(axis = (2,3))"
   ]
  },
  {
   "cell_type": "code",
   "execution_count": null,
   "metadata": {},
   "outputs": [],
   "source": [
    " # submatrices_F - подматрицы X, соответствующие F для d_h, d_w (H-h+1, W-w+1, h, w)\n",
    "d_h = np.arange(H-h+1)[:,np.newaxis] + np.arange(h)[np.newaxis,:]\n",
    "d_w = np.arange(W-w+1)[:,np.newaxis] + np.arange(w)[np.newaxis,:]\n",
    "submatrices = X[d_h[:,np.newaxis,:,np.newaxis],d_w[np.newaxis,:,np.newaxis,:],:]\n",
    "density = norm.logpdf(submatrices, F[np.newaxis, np.newaxis, :, :, np.newaxis], s).sum(axis=(2,3))\n",
    "#density = norm.pdf(X, 0, s)\n",
    "\n",
    "#submatrices = density[d_h[:,np.newaxis,:,np.newaxis],d_w[np.newaxis,:,np.newaxis,:],:]\n",
    "#%time  submatrices + F[np.newaxis, np.newaxis, :, :, np.newaxis]\n",
    "#ans = np.log(submatrices + F[np.newaxis, np.newaxis, :, :, np.newaxis]).sum(axis=(2,3))\n",
    "# submatrices_B - подматрицы B, которые надо вычесть для каждого d_h, d_w\n",
    "to_derive = B[d_h[:,np.newaxis,:,np.newaxis],d_w[np.newaxis,:,np.newaxis,:]]\n",
    "to_derive = norm.logpdf(submatrices, to_derive[:,:,:,:,np.newaxis], s).sum(axis = (2,3))\n",
    "#to_derive = np.log(submatrices\\\n",
    "#                  + to_derive[:,:,:,:,np.newaxis]).sum(axis = (2,3))\n",
    "to_add = norm.logpdf(X, B[:,:, np.newaxis], s)[np.newaxis, np.newaxis, :,:,:].sum(axis = (2,3))\n",
    "#to_add = np.log(density + B[:,:,np.newaxis])[np.newaxis, np.newaxis, :,:,:].sum(axis = (2,3))\n",
    "#density += to_add - to_derive\n",
    "ans += to_add - to_derive\n",
    "#return density"
   ]
  },
  {
   "cell_type": "code",
   "execution_count": null,
   "metadata": {},
   "outputs": [],
   "source": [
    "t_start = time.perf_counter()\n",
    "q = calculate_log_probability(X, F, B, s)\n",
    "if use_MAP:\n",
    "    aid = A[:,:,np.newaxis] + np.zeros(q.shape)\n",
    "    q[aid == 0] = -100\n",
    "    q[aid!=0] += np.log(aid[aid!=0])\n",
    "    q = np.vstack(np.unravel_index(q.reshape(-1,K).argmax(0), q.shape[0:2]))\n",
    "    return q\n",
    "A[A==0] += 1e-5\n",
    "q += np.log(A[:,:,np.newaxis])\n",
    "to_derive = q.max(axis=(0,1))\n",
    "q -= to_derive[np.newaxis, np.newaxis, :]\n",
    "normalizer = logsumexp(q,axis=(1,0))[np.newaxis, np.newaxis, :]\n",
    "q -= normalizer\n",
    "q = np.exp(q)"
   ]
  }
 ],
 "metadata": {
  "kernelspec": {
   "display_name": "Python 3",
   "language": "python",
   "name": "python3"
  },
  "language_info": {
   "codemirror_mode": {
    "name": "ipython",
    "version": 3
   },
   "file_extension": ".py",
   "mimetype": "text/x-python",
   "name": "python",
   "nbconvert_exporter": "python",
   "pygments_lexer": "ipython3",
   "version": "3.5.2"
  }
 },
 "nbformat": 4,
 "nbformat_minor": 2
}

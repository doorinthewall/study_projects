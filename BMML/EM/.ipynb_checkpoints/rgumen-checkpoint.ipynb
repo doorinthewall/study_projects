{
 "cells": [
  {
   "cell_type": "code",
   "execution_count": 1,
   "metadata": {},
   "outputs": [],
   "source": [
    "%load_ext autoreload\n",
    "%autoreload 2"
   ]
  },
  {
   "cell_type": "code",
   "execution_count": 2,
   "metadata": {},
   "outputs": [],
   "source": [
    "import prototypes as kek"
   ]
  },
  {
   "cell_type": "code",
   "execution_count": 3,
   "metadata": {},
   "outputs": [],
   "source": [
    "from matplotlib import pyplot as plt"
   ]
  },
  {
   "cell_type": "code",
   "execution_count": 4,
   "metadata": {},
   "outputs": [],
   "source": [
    "import numpy as np"
   ]
  },
  {
   "cell_type": "code",
   "execution_count": 5,
   "metadata": {},
   "outputs": [],
   "source": [
    "a = np.load('nudes.npy')"
   ]
  },
  {
   "cell_type": "code",
   "execution_count": 6,
   "metadata": {},
   "outputs": [
    {
     "data": {
      "text/plain": [
       "<matplotlib.image.AxesImage at 0x7fceb4a57e80>"
      ]
     },
     "execution_count": 6,
     "metadata": {},
     "output_type": "execute_result"
    },
    {
     "data": {
      "image/png": "[encoded data removed]",
      "text/plain": [
       "<Figure size 432x288 with 1 Axes>"
      ]
     },
     "metadata": {},
     "output_type": "display_data"
    }
   ],
   "source": [
    "plt.imshow(a[:,:,1], 'gray')"
   ]
  },
  {
   "cell_type": "code",
   "execution_count": 7,
   "metadata": {},
   "outputs": [
    {
     "data": {
      "text/plain": [
       "(60, 100, 50)"
      ]
     },
     "execution_count": 7,
     "metadata": {},
     "output_type": "execute_result"
    }
   ],
   "source": [
    "a.shape"
   ]
  },
  {
   "cell_type": "code",
   "execution_count": null,
   "metadata": {
    "scrolled": false
   },
   "outputs": [
    {
     "name": "stderr",
     "output_type": "stream",
     "text": [
      "/media/alex/Windows8_OS/Ubuntu/python/sem_3/BMMO/BMMO#2/prototypes.py:106: RuntimeWarning: divide by zero encountered in log\n",
      "  L = (L * q).sum() + (q*np.log(q)).sum()\n",
      "/media/alex/Windows8_OS/Ubuntu/python/sem_3/BMMO/BMMO#2/prototypes.py:106: RuntimeWarning: invalid value encountered in multiply\n",
      "  L = (L * q).sum() + (q*np.log(q)).sum()\n",
      "/media/alex/Windows8_OS/Ubuntu/python/sem_3/BMMO/BMMO#2/prototypes.py:105: RuntimeWarning: divide by zero encountered in log\n",
      "  L[q!=0] += np.log(aid[q!=0])\n",
      "/media/alex/Windows8_OS/Ubuntu/python/sem_3/BMMO/BMMO#2/prototypes.py:227: RuntimeWarning: divide by zero encountered in true_divide\n",
      "  B_new[B_new!=0] = B_new[B_new!=0]/(1-to_derive).sum(axis=-1)[B_new!=0]\n",
      "/media/alex/Windows8_OS/Ubuntu/python/sem_3/BMMO/BMMO#2/prototypes.py:234: RuntimeWarning: invalid value encountered in multiply\n",
      "  arg1 = (((X-B_new[:,:,np.newaxis])**2)*to_mul).sum()\n",
      "/media/alex/Windows8_OS/Ubuntu/python/sem_3/BMMO/BMMO#2/prototypes.py:233: RuntimeWarning: invalid value encountered in less\n",
      "  to_mul[to_mul < 0] = 0\n"
     ]
    }
   ],
   "source": [
    "F,B,s,A,L = kek.run_EM_with_restarts(a, 50, 50)"
   ]
  },
  {
   "cell_type": "code",
   "execution_count": null,
   "metadata": {},
   "outputs": [],
   "source": []
  }
 ],
 "metadata": {
  "kernelspec": {
   "display_name": "Python 3",
   "language": "python",
   "name": "python3"
  },
  "language_info": {
   "codemirror_mode": {
    "name": "ipython",
    "version": 3
   },
   "file_extension": ".py",
   "mimetype": "text/x-python",
   "name": "python",
   "nbconvert_exporter": "python",
   "pygments_lexer": "ipython3",
   "version": "3.5.2"
  }
 },
 "nbformat": 4,
 "nbformat_minor": 2
}
